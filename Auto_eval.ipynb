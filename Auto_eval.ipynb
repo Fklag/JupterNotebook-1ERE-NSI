{
 "cells": [
  {
   "cell_type": "code",
   "execution_count": 1,
   "metadata": {},
   "outputs": [],
   "source": [
    "# Executez cette cellule dès le début pour permettre l'autocorrection.\n",
    "from exos.correction1 import exo_liste_doublons\n",
    "from exos.correction2 import exo_nombre_joueurs_annee\n",
    "from exos.correction3 import exo_nom_joueur_max_passes\n",
    "from exos.correction4 import exo_nom_top_categorie"
   ]
  },
  {
   "cell_type": "markdown",
   "metadata": {},
   "source": [
    "# 1. Import du cvs dans python sous forme de liste de dictionnaires\n",
    "  \n",
    "La première étape est de charger notre fichier dans python.  \n",
    "Nous allons utiliser une fonction qui prendra comme paramètre le nom du fichier csv (situé dans le même répertoire).  \n",
    "Cette fonction retournera une liste, dans celle-ci, plusieurs dictionnaires.  \n",
    "Le csv aura pour thème les joueurs en NBA de 1950 à 2017."
   ]
  },
  {
   "cell_type": "markdown",
   "metadata": {},
   "source": [
    "## Question 1 : Modifier la fonction ci-dessous pour qu'elle importe les données de NBA_saisons.csv correctement"
   ]
  },
  {
   "cell_type": "code",
   "execution_count": 6,
   "metadata": {},
   "outputs": [],
   "source": [
    "import csv\n",
    "\n",
    "def charger_csv_dict(nom_fic):\n",
    "    \"\"\"Fonction qui permet d'importer les données du fichier csv sous forme de liste de dictionnaires \"\"\"\n",
    "    liste = []  # resultat de la fonction\n",
    "    # ouverture du fichier CSV\n",
    "    with open(nom_fic,  # nom du fichier\n",
    "              \"r\",  # ouverture en lecture\n",
    "              newline=\"\",  # évite les problèmes de codage du retour à la ligne\n",
    "              encoding=\"utf-8-sig\",  # permet de forcer la lecture en utf -8 (sig pour \"UTF-8 codec with BOM signature\")\n",
    "              ) as csvfile:  # cvsfile est le fichier que l'on vient d'ouvrir\n",
    "        # création du lecteur csv indiquant le caractère séparateur\n",
    "        csv_reader = csv.reader(csvfile,    \n",
    "                                delimiter=\",\",\n",
    "                                quotechar=\"'\",\n",
    "                                quoting=csv.QUOTE_MINIMAL)\n",
    "        # permet de sauter la ligne d'entête si pas besoin\n",
    "        csv_reader.__next__()\n",
    "        for enreg in csv_reader:  # boucle de parcours des enregistrements\n",
    "            # enreg est une liste de str contenant chaque champ de l ' enregistrement\n",
    "            # ajout du score dans la liste\n",
    "            liste.append(\n",
    "            {\n",
    "                'Année' : enreg[0],\n",
    "                'Athlète' : enreg[1],\n",
    "                'Position' : enreg[2],\n",
    "                'Age' : enreg[3],\n",
    "                'Equipe' : enreg[4],\n",
    "                'Matchs joués' : enreg[5],\n",
    "# COMPLETER A PARTIR DE CETTE LIGNE\n",
    "            }\n",
    "            )\n",
    "    return liste"
   ]
  },
  {
   "cell_type": "code",
   "execution_count": 7,
   "metadata": {},
   "outputs": [],
   "source": [
    "saisons_NBA = charger_csv_dict('NBA_saisons.csv')"
   ]
  },
  {
   "cell_type": "markdown",
   "metadata": {},
   "source": [
    "## Question 2 \n",
    "**Créez, une fonction qui prend comme entrée une liste qui renvoie la liste des doublons. Cette liste sera vide si il n'y a aucun doublons.**   \n",
    "La cellule ci-dessous donne des exemples."
   ]
  },
  {
   "cell_type": "code",
   "execution_count": 8,
   "metadata": {},
   "outputs": [
    {
     "data": {
      "text/html": [
       "<table style='font-family:monospace;font-size:small;'><tr style='font-family:monospace;font-size:medium;'><th style='text-align: center;'><pre>Appel</pre></th><th style='text-align: center;'><pre>Resultat Attendu</pre></th></tr><tr><td><pre>liste_doublons([1, 1, 2, 3, 4])</pre></td><td style='text-align: left;border-left:3px solid gray;'><pre>\n",
       "[1]</pre></td></tr><tr><td><pre>liste_doublons([1, 1, 2, 1, 2, 3, 3, 4])</pre></td><td style='text-align: left;border-left:3px solid gray;'><pre>\n",
       "[1, 1, 2, 3]</pre></td></tr><tr><td><pre>liste_doublons([1, 1, 2, 3, 4, 5, 5])</pre></td><td style='text-align: left;border-left:3px solid gray;'><pre>\n",
       "[1, 5]</pre></td></tr></table>"
      ],
      "text/plain": [
       "<IPython.core.display.HTML object>"
      ]
     },
     "execution_count": 8,
     "metadata": {},
     "output_type": "execute_result"
    }
   ],
   "source": [
    "exo_liste_doublons.example(3)"
   ]
  },
  {
   "cell_type": "code",
   "execution_count": 9,
   "metadata": {},
   "outputs": [],
   "source": [
    "def liste_doublons(liste):\n",
    "    \"\"\"\n",
    "    fonction qui prend comme entrée une liste\n",
    "    et qui renvoie la liste des doublons.\n",
    "    Cette liste sera vide si il n'y a aucun doublons.\n",
    "    \"\"\"\n",
    "    return [1]"
   ]
  },
  {
   "cell_type": "markdown",
   "metadata": {},
   "source": [
    " **Executez la cellule ci-dessous pour tester votre fonction** "
   ]
  },
  {
   "cell_type": "code",
   "execution_count": 11,
   "metadata": {},
   "outputs": [
    {
     "data": {
      "text/html": [
       "<table style='font-family:monospace;font-size:small;'><tr style='font-family:monospace;font-size:medium;'><th style='text-align: center;'><pre>Appel</pre></th><th style='text-align: center;'><pre>Attendu</pre></th><th style='text-align: center;'><pre>Obtenu</pre></th><th style='text-align: center;'><pre></pre></th></tr><tr style='background-color:#d6e9ce;border-bottom:2px solid gray;'><td><pre>liste_doublons([1, 1, 2, 3, 4])</pre></td><td style='text-align: left;border-left:3px solid gray;'><pre>\n",
       "[1]</pre></td><td style='text-align: left;border-left:1px solid gray;'><pre>\n",
       "[1]</pre></td><td style='border-left:3px solid gray;'><pre>OK</pre></td></tr><tr style='background-color:#efd6d6;border-bottom:2px solid gray;'><td><pre>liste_doublons([1, 1, 2, 1, 2, 3, 3, 4])</pre></td><td style='text-align: left;border-left:3px solid gray;'><pre>\n",
       "[1, 1, 2, 3]</pre></td><td style='text-align: left;border-left:1px solid gray;'><pre>\n",
       "[1]</pre></td><td style='border-left:3px solid gray;'><pre>KO</pre></td></tr><tr style='background-color:#efd6d6;border-bottom:2px solid gray;'><td><pre>liste_doublons([1, 1, 2, 3, 4, 5, 5])</pre></td><td style='text-align: left;border-left:3px solid gray;'><pre>\n",
       "[1, 5]</pre></td><td style='text-align: left;border-left:1px solid gray;'><pre>\n",
       "[1]</pre></td><td style='border-left:3px solid gray;'><pre>KO</pre></td></tr></table>"
      ],
      "text/plain": [
       "<IPython.core.display.HTML object>"
      ]
     },
     "execution_count": 11,
     "metadata": {},
     "output_type": "execute_result"
    }
   ],
   "source": [
    "exo_liste_doublons.correction(liste_doublons)"
   ]
  },
  {
   "cell_type": "markdown",
   "metadata": {},
   "source": [
    "## Question 3\n",
    "**Créez, une fonction qui prend comme entrée une année (int) et qui retourne le nombre de joueurs ayant joués l'année donnée.**   \n",
    "La cellule ci-dessous donne des exemples."
   ]
  },
  {
   "cell_type": "code",
   "execution_count": 23,
   "metadata": {},
   "outputs": [
    {
     "data": {
      "text/html": [
       "<table style='font-family:monospace;font-size:small;'><tr style='font-family:monospace;font-size:medium;'><th style='text-align: center;'><pre>Appel</pre></th><th style='text-align: center;'><pre>Resultat Attendu</pre></th></tr><tr><td><pre>nombre_joueurs_annee(1950)</pre></td><td style='text-align: left;border-left:3px solid gray;'><pre>\n",
       "312</pre></td></tr><tr><td><pre>nombre_joueurs_annee(1960)</pre></td><td style='text-align: left;border-left:3px solid gray;'><pre>\n",
       "117</pre></td></tr><tr><td><pre>nombre_joueurs_annee(1970)</pre></td><td style='text-align: left;border-left:3px solid gray;'><pre>\n",
       "201</pre></td></tr><tr><td><pre>nombre_joueurs_annee(1980)</pre></td><td style='text-align: left;border-left:3px solid gray;'><pre>\n",
       "356</pre></td></tr></table>"
      ],
      "text/plain": [
       "<IPython.core.display.HTML object>"
      ]
     },
     "execution_count": 23,
     "metadata": {},
     "output_type": "execute_result"
    }
   ],
   "source": [
    "exo_nombre_joueurs_annee.example(4)"
   ]
  },
  {
   "cell_type": "code",
   "execution_count": 24,
   "metadata": {},
   "outputs": [],
   "source": [
    "# Complétez la fonction suivante :\n",
    "def nombre_joueurs_annee(annee):\n",
    "    \"\"\"\n",
    "    Fonction qui en paramètre prend une année (int)\n",
    "    et qui retourne le nombre de joueurs ayant joués l'année donnée\n",
    "    \"\"\"\n",
    "    pass"
   ]
  },
  {
   "cell_type": "markdown",
   "metadata": {},
   "source": [
    " **Executez la cellule ci-dessous pour tester votre fonction** "
   ]
  },
  {
   "cell_type": "code",
   "execution_count": 26,
   "metadata": {},
   "outputs": [
    {
     "data": {
      "text/html": [
       "<table style='font-family:monospace;font-size:small;'><tr style='font-family:monospace;font-size:medium;'><th style='text-align: center;'><pre>Appel</pre></th><th style='text-align: center;'><pre>Attendu</pre></th><th style='text-align: center;'><pre>Obtenu</pre></th><th style='text-align: center;'><pre></pre></th></tr><tr style='background-color:#efd6d6;border-bottom:2px solid gray;'><td><pre>nombre_joueurs_annee(1950)</pre></td><td style='text-align: left;border-left:3px solid gray;'><pre>\n",
       "312</pre></td><td style='text-align: left;border-left:1px solid gray;'><pre>\n",
       "None</pre></td><td style='border-left:3px solid gray;'><pre>KO</pre></td></tr><tr style='background-color:#efd6d6;border-bottom:2px solid gray;'><td><pre>nombre_joueurs_annee(1960)</pre></td><td style='text-align: left;border-left:3px solid gray;'><pre>\n",
       "117</pre></td><td style='text-align: left;border-left:1px solid gray;'><pre>\n",
       "None</pre></td><td style='border-left:3px solid gray;'><pre>KO</pre></td></tr><tr style='background-color:#efd6d6;border-bottom:2px solid gray;'><td><pre>nombre_joueurs_annee(1970)</pre></td><td style='text-align: left;border-left:3px solid gray;'><pre>\n",
       "201</pre></td><td style='text-align: left;border-left:1px solid gray;'><pre>\n",
       "None</pre></td><td style='border-left:3px solid gray;'><pre>KO</pre></td></tr><tr style='background-color:#efd6d6;border-bottom:2px solid gray;'><td><pre>nombre_joueurs_annee(1980)</pre></td><td style='text-align: left;border-left:3px solid gray;'><pre>\n",
       "356</pre></td><td style='text-align: left;border-left:1px solid gray;'><pre>\n",
       "None</pre></td><td style='border-left:3px solid gray;'><pre>KO</pre></td></tr><tr style='background-color:#efd6d6;border-bottom:2px solid gray;'><td><pre>nombre_joueurs_annee(1990)</pre></td><td style='text-align: left;border-left:3px solid gray;'><pre>\n",
       "456</pre></td><td style='text-align: left;border-left:1px solid gray;'><pre>\n",
       "None</pre></td><td style='border-left:3px solid gray;'><pre>KO</pre></td></tr><tr style='background-color:#efd6d6;border-bottom:2px solid gray;'><td><pre>nombre_joueurs_annee(2000)</pre></td><td style='text-align: left;border-left:3px solid gray;'><pre>\n",
       "494</pre></td><td style='text-align: left;border-left:1px solid gray;'><pre>\n",
       "None</pre></td><td style='border-left:3px solid gray;'><pre>KO</pre></td></tr><tr style='background-color:#efd6d6;border-bottom:2px solid gray;'><td><pre>nombre_joueurs_annee(2010)</pre></td><td style='text-align: left;border-left:3px solid gray;'><pre>\n",
       "575</pre></td><td style='text-align: left;border-left:1px solid gray;'><pre>\n",
       "None</pre></td><td style='border-left:3px solid gray;'><pre>KO</pre></td></tr><tr style='background-color:#efd6d6;border-bottom:2px solid gray;'><td><pre>nombre_joueurs_annee(2017)</pre></td><td style='text-align: left;border-left:3px solid gray;'><pre>\n",
       "593</pre></td><td style='text-align: left;border-left:1px solid gray;'><pre>\n",
       "None</pre></td><td style='border-left:3px solid gray;'><pre>KO</pre></td></tr></table>"
      ],
      "text/plain": [
       "<IPython.core.display.HTML object>"
      ]
     },
     "execution_count": 26,
     "metadata": {},
     "output_type": "execute_result"
    }
   ],
   "source": [
    "exo_nombre_joueurs_annee.correction(nombre_joueurs_annee)"
   ]
  },
  {
   "cell_type": "markdown",
   "metadata": {},
   "source": [
    "## Question 4\n",
    "**Créez, une fonction qui en paramètre prend une année (int) et qui retourne le nom du joueur ayant fait le plus de passes lors de cette année**   \n",
    "La cellule ci-dessous donne des exemples."
   ]
  },
  {
   "cell_type": "code",
   "execution_count": 27,
   "metadata": {},
   "outputs": [
    {
     "data": {
      "text/html": [
       "<table style='font-family:monospace;font-size:small;'><tr style='font-family:monospace;font-size:medium;'><th style='text-align: center;'><pre>Appel</pre></th><th style='text-align: center;'><pre>Resultat Attendu</pre></th></tr><tr><td><pre>nom_joueur_max_passes(1953)</pre></td><td style='text-align: left;border-left:3px solid gray;'><pre>\n",
       "'Bob Cousy*'</pre></td></tr><tr><td><pre>nom_joueur_max_passes(1960)</pre></td><td style='text-align: left;border-left:3px solid gray;'><pre>\n",
       "'Bob Cousy*'</pre></td></tr><tr><td><pre>nom_joueur_max_passes(1970)</pre></td><td style='text-align: left;border-left:3px solid gray;'><pre>\n",
       "'Lenny Wilkens*'</pre></td></tr><tr><td><pre>nom_joueur_max_passes(1980)</pre></td><td style='text-align: left;border-left:3px solid gray;'><pre>\n",
       "'Micheal Ray'</pre></td></tr></table>"
      ],
      "text/plain": [
       "<IPython.core.display.HTML object>"
      ]
     },
     "execution_count": 27,
     "metadata": {},
     "output_type": "execute_result"
    }
   ],
   "source": [
    "exo_nom_joueur_max_passes.example(4)"
   ]
  },
  {
   "cell_type": "code",
   "execution_count": 28,
   "metadata": {},
   "outputs": [],
   "source": [
    "def nom_joueur_max_passes(annee):\n",
    "    \"\"\"\n",
    "    Fonction qui en paramètre prend une année (int)\n",
    "    et qui retourne le nom du joueur ayant fait le plus de passes lors de cette année\n",
    "    \"\"\"\n",
    "    pass"
   ]
  },
  {
   "cell_type": "code",
   "execution_count": 29,
   "metadata": {},
   "outputs": [
    {
     "data": {
      "text/html": [
       "<table style='font-family:monospace;font-size:small;'><tr style='font-family:monospace;font-size:medium;'><th style='text-align: center;'><pre>Appel</pre></th><th style='text-align: center;'><pre>Attendu</pre></th><th style='text-align: center;'><pre>Obtenu</pre></th><th style='text-align: center;'><pre></pre></th></tr><tr style='background-color:#efd6d6;border-bottom:2px solid gray;'><td><pre>nom_joueur_max_passes(1953)</pre></td><td style='text-align: left;border-left:3px solid gray;'><pre>\n",
       "'Bob Cousy*'</pre></td><td style='text-align: left;border-left:1px solid gray;'><pre>\n",
       "None</pre></td><td style='border-left:3px solid gray;'><pre>KO</pre></td></tr><tr style='background-color:#efd6d6;border-bottom:2px solid gray;'><td><pre>nom_joueur_max_passes(1960)</pre></td><td style='text-align: left;border-left:3px solid gray;'><pre>\n",
       "'Bob Cousy*'</pre></td><td style='text-align: left;border-left:1px solid gray;'><pre>\n",
       "None</pre></td><td style='border-left:3px solid gray;'><pre>KO</pre></td></tr><tr style='background-color:#efd6d6;border-bottom:2px solid gray;'><td><pre>nom_joueur_max_passes(1970)</pre></td><td style='text-align: left;border-left:3px solid gray;'><pre>\n",
       "'Lenny Wilkens*'</pre></td><td style='text-align: left;border-left:1px solid gray;'><pre>\n",
       "None</pre></td><td style='border-left:3px solid gray;'><pre>KO</pre></td></tr><tr style='background-color:#efd6d6;border-bottom:2px solid gray;'><td><pre>nom_joueur_max_passes(1980)</pre></td><td style='text-align: left;border-left:3px solid gray;'><pre>\n",
       "'Micheal Ray'</pre></td><td style='text-align: left;border-left:1px solid gray;'><pre>\n",
       "None</pre></td><td style='border-left:3px solid gray;'><pre>KO</pre></td></tr><tr style='background-color:#efd6d6;border-bottom:2px solid gray;'><td><pre>nom_joueur_max_passes(1990)</pre></td><td style='text-align: left;border-left:3px solid gray;'><pre>\n",
       "'John Stockton*'</pre></td><td style='text-align: left;border-left:1px solid gray;'><pre>\n",
       "None</pre></td><td style='border-left:3px solid gray;'><pre>KO</pre></td></tr><tr style='background-color:#efd6d6;border-bottom:2px solid gray;'><td><pre>nom_joueur_max_passes(2000)</pre></td><td style='text-align: left;border-left:3px solid gray;'><pre>\n",
       "'Gary Payton*'</pre></td><td style='text-align: left;border-left:1px solid gray;'><pre>\n",
       "None</pre></td><td style='border-left:3px solid gray;'><pre>KO</pre></td></tr><tr style='background-color:#efd6d6;border-bottom:2px solid gray;'><td><pre>nom_joueur_max_passes(2010)</pre></td><td style='text-align: left;border-left:3px solid gray;'><pre>\n",
       "'Steve Nash'</pre></td><td style='text-align: left;border-left:1px solid gray;'><pre>\n",
       "None</pre></td><td style='border-left:3px solid gray;'><pre>KO</pre></td></tr><tr style='background-color:#efd6d6;border-bottom:2px solid gray;'><td><pre>nom_joueur_max_passes(2017)</pre></td><td style='text-align: left;border-left:3px solid gray;'><pre>\n",
       "'James Harden'</pre></td><td style='text-align: left;border-left:1px solid gray;'><pre>\n",
       "None</pre></td><td style='border-left:3px solid gray;'><pre>KO</pre></td></tr></table>"
      ],
      "text/plain": [
       "<IPython.core.display.HTML object>"
      ]
     },
     "execution_count": 29,
     "metadata": {},
     "output_type": "execute_result"
    }
   ],
   "source": [
    "exo_nom_joueur_max_passes.correction(nom_joueur_max_passes)"
   ]
  },
  {
   "cell_type": "markdown",
   "metadata": {},
   "source": [
    "## Question 5\n",
    "**Créez, une fonction qui en paramètre Fonction qui en paramètre prend une catégorie (parmi 'Passes', 'Points', '%2Points', '%3Points')\n",
    "    et deux année (int)\n",
    "    et qui retourne le nom du meilleur joueurs (str) dans cette catégorie durant l'intervalle de temps\n",
    "    [annee_min ; annee_max]**   \n",
    "La cellule ci-dessous donne des exemples."
   ]
  },
  {
   "cell_type": "code",
   "execution_count": 31,
   "metadata": {},
   "outputs": [
    {
     "data": {
      "text/html": [
       "<table style='font-family:monospace;font-size:small;'><tr style='font-family:monospace;font-size:medium;'><th style='text-align: center;'><pre>Appel</pre></th><th style='text-align: center;'><pre>Resultat Attendu</pre></th></tr><tr><td><pre>nom_top_categorie('Passes', 1970, 2000)</pre></td><td style='text-align: left;border-left:3px solid gray;'><pre>\n",
       "'John Stockton*'</pre></td></tr><tr><td><pre>nom_top_categorie('Points', 1970, 2000)</pre></td><td style='text-align: left;border-left:3px solid gray;'><pre>\n",
       "'Michael Jordan*'</pre></td></tr><tr><td><pre><pre>nom_top_categorie(\n",
       "  '%2Points',\n",
       "  1970,\n",
       "  2000)\n",
       "</pre></pre></td><td style='text-align: left;border-left:3px solid gray;'><pre>\n",
       "'Dave Scholz'</pre></td></tr></table>"
      ],
      "text/plain": [
       "<IPython.core.display.HTML object>"
      ]
     },
     "execution_count": 31,
     "metadata": {},
     "output_type": "execute_result"
    }
   ],
   "source": [
    "exo_nom_top_categorie.example(3)"
   ]
  },
  {
   "cell_type": "code",
   "execution_count": 32,
   "metadata": {},
   "outputs": [],
   "source": [
    "def nom_top_categorie(categorie,annee_min,annee_max):\n",
    "    \"\"\"\n",
    "    Fonction qui en paramètre prend une catégorie (parmi 'Passes', 'Points', '%2Points', '%3Points')\n",
    "    et deux année (int)\n",
    "    et qui retourne le nom du meilleur joueurs (str) dans cette catégorie durant l'intervalle de temps\n",
    "    [annee_min ; annee_max]\n",
    "    \"\"\"\n",
    "    pass"
   ]
  },
  {
   "cell_type": "code",
   "execution_count": 33,
   "metadata": {},
   "outputs": [
    {
     "data": {
      "text/html": [
       "<table style='font-family:monospace;font-size:small;'><tr style='font-family:monospace;font-size:medium;'><th style='text-align: center;'><pre>Appel</pre></th><th style='text-align: center;'><pre>Attendu</pre></th><th style='text-align: center;'><pre>Obtenu</pre></th><th style='text-align: center;'><pre></pre></th></tr><tr style='background-color:#efd6d6;border-bottom:2px solid gray;'><td><pre>nom_top_categorie('Passes', 1970, 2000)</pre></td><td style='text-align: left;border-left:3px solid gray;'><pre>\n",
       "'John Stockton*'</pre></td><td style='text-align: left;border-left:1px solid gray;'><pre>\n",
       "None</pre></td><td style='border-left:3px solid gray;'><pre>KO</pre></td></tr><tr style='background-color:#efd6d6;border-bottom:2px solid gray;'><td><pre>nom_top_categorie('Points', 1970, 2000)</pre></td><td style='text-align: left;border-left:3px solid gray;'><pre>\n",
       "'Michael Jordan*'</pre></td><td style='text-align: left;border-left:1px solid gray;'><pre>\n",
       "None</pre></td><td style='border-left:3px solid gray;'><pre>KO</pre></td></tr><tr style='background-color:#efd6d6;border-bottom:2px solid gray;'><td><pre><pre>nom_top_categorie(\n",
       "  '%2Points',\n",
       "  1970,\n",
       "  2000)\n",
       "</pre></pre></td><td style='text-align: left;border-left:3px solid gray;'><pre>\n",
       "'Dave Scholz'</pre></td><td style='text-align: left;border-left:1px solid gray;'><pre>\n",
       "None</pre></td><td style='border-left:3px solid gray;'><pre>KO</pre></td></tr><tr style='background-color:#efd6d6;border-bottom:2px solid gray;'><td><pre><pre>nom_top_categorie(\n",
       "  '%3Points',\n",
       "  1970,\n",
       "  2000)\n",
       "</pre></pre></td><td style='text-align: left;border-left:3px solid gray;'><pre>\n",
       "'Gus Bailey'</pre></td><td style='text-align: left;border-left:1px solid gray;'><pre>\n",
       "None</pre></td><td style='border-left:3px solid gray;'><pre>KO</pre></td></tr><tr style='background-color:#efd6d6;border-bottom:2px solid gray;'><td><pre>nom_top_categorie('Points', 1970, 2000)</pre></td><td style='text-align: left;border-left:3px solid gray;'><pre>\n",
       "'Michael Jordan*'</pre></td><td style='text-align: left;border-left:1px solid gray;'><pre>\n",
       "None</pre></td><td style='border-left:3px solid gray;'><pre>KO</pre></td></tr><tr style='background-color:#efd6d6;border-bottom:2px solid gray;'><td><pre>nom_top_categorie('Passes', 2000, 2017)</pre></td><td style='text-align: left;border-left:3px solid gray;'><pre>\n",
       "'Chris Paul'</pre></td><td style='text-align: left;border-left:1px solid gray;'><pre>\n",
       "None</pre></td><td style='border-left:3px solid gray;'><pre>KO</pre></td></tr><tr style='background-color:#efd6d6;border-bottom:2px solid gray;'><td><pre>nom_top_categorie('Points', 2000, 2017)</pre></td><td style='text-align: left;border-left:3px solid gray;'><pre>\n",
       "'Kobe Bryant'</pre></td><td style='text-align: left;border-left:1px solid gray;'><pre>\n",
       "None</pre></td><td style='border-left:3px solid gray;'><pre>KO</pre></td></tr><tr style='background-color:#efd6d6;border-bottom:2px solid gray;'><td><pre><pre>nom_top_categorie(\n",
       "  '%2Points',\n",
       "  2000,\n",
       "  2017)\n",
       "</pre></pre></td><td style='text-align: left;border-left:3px solid gray;'><pre>\n",
       "'Ira Bowman'</pre></td><td style='text-align: left;border-left:1px solid gray;'><pre>\n",
       "None</pre></td><td style='border-left:3px solid gray;'><pre>KO</pre></td></tr><tr style='background-color:#efd6d6;border-bottom:2px solid gray;'><td><pre><pre>nom_top_categorie(\n",
       "  '%3Points',\n",
       "  2000,\n",
       "  2017)\n",
       "</pre></pre></td><td style='text-align: left;border-left:3px solid gray;'><pre>\n",
       "'Jamie Feick'</pre></td><td style='text-align: left;border-left:1px solid gray;'><pre>\n",
       "None</pre></td><td style='border-left:3px solid gray;'><pre>KO</pre></td></tr><tr style='background-color:#efd6d6;border-bottom:2px solid gray;'><td><pre>nom_top_categorie('Points', 2000, 2017)</pre></td><td style='text-align: left;border-left:3px solid gray;'><pre>\n",
       "'Kobe Bryant'</pre></td><td style='text-align: left;border-left:1px solid gray;'><pre>\n",
       "None</pre></td><td style='border-left:3px solid gray;'><pre>KO</pre></td></tr></table>"
      ],
      "text/plain": [
       "<IPython.core.display.HTML object>"
      ]
     },
     "execution_count": 33,
     "metadata": {},
     "output_type": "execute_result"
    }
   ],
   "source": [
    "exo_nom_top_categorie.correction(nom_top_categorie)"
   ]
  },
  {
   "cell_type": "code",
   "execution_count": null,
   "metadata": {},
   "outputs": [],
   "source": []
  }
 ],
 "metadata": {
  "kernelspec": {
   "display_name": "Python 3",
   "language": "python",
   "name": "python3"
  },
  "language_info": {
   "codemirror_mode": {
    "name": "ipython",
    "version": 3
   },
   "file_extension": ".py",
   "mimetype": "text/x-python",
   "name": "python",
   "nbconvert_exporter": "python",
   "pygments_lexer": "ipython3",
   "version": "3.6.8"
  }
 },
 "nbformat": 4,
 "nbformat_minor": 4
}
