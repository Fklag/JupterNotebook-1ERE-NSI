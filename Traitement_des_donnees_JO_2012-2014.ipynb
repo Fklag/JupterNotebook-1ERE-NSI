{
 "cells": [
  {
   "cell_type": "markdown",
   "metadata": {},
   "source": [
    "# Traitement de données en table"
   ]
  },
  {
   "cell_type": "markdown",
   "metadata": {},
   "source": [
    "## 1. Import du cvs dans python sous forme de liste de listes\n",
    "  \n",
    "La première étape est de charger notre fichier dans python.  \n",
    "Nous allons utiliser une fonction qui prendra comme paramètre le nom du fichier csv (situé dans le même répertoire).  \n",
    "Cette fonction retournera une liste, dans celle-ci, plusieurs listes. Une liste pour chaque ligne du fichier de données.  \n",
    "Nous verons plus loin une autre fonction qui permettra de retourner une liste de dictionnaires.  \n",
    "  "
   ]
  },
  {
   "cell_type": "code",
   "execution_count": 1,
   "metadata": {},
   "outputs": [],
   "source": [
    "import csv\n",
    "\n",
    "def charger_csv(nom_fic):\n",
    "    \"\"\"Fonction qui permet d'importer les données du fichier csv sous forme de liste de listes \"\"\"\n",
    "    liste = []  # resultat de la fonction\n",
    "    # ouverture du fichier CSV\n",
    "    with open(nom_fic,  # nom du fichier\n",
    "              \"r\",  # ouverture en lecture\n",
    "              newline=\"\",  # évite les problèmes de codage du retour à la ligne\n",
    "              encoding=\"utf-8-sig\"  # permet de forcer la lecture en utf -8 (sig pour \"UTF-8 codec with BOM signature\")\n",
    "              ) as csvfile:  # cvsfile est le fichier que l'on vient d'ouvrir\n",
    "        # création du lecteur csv indiquant le caractère séparateur\n",
    "        csv_reader = csv.reader(csvfile, delimiter=\";\")\n",
    "        for enreg in csv_reader:  # boucle de parcours des enregistrements\n",
    "            # enreg est une liste de str contenant chaque champ de l ' enregistrement\n",
    "            # ajout de enreg dans la liste\n",
    "            liste.append(enreg)\n",
    "    return liste"
   ]
  },
  {
   "cell_type": "code",
   "execution_count": 2,
   "metadata": {},
   "outputs": [],
   "source": [
    "liste_medailles = charger_csv(\"JO_Liste_Medaille_2012-2014.csv\")"
   ]
  },
  {
   "cell_type": "markdown",
   "metadata": {},
   "source": [
    "## 1.1 Manipulation des listes  \n",
    "Ouvrez le fichier csv dans un éditeur de texte pour vous aider.  \n",
    " \n",
    "Répondez aux questions ci-dessous :"
   ]
  },
  {
   "cell_type": "code",
   "execution_count": null,
   "metadata": {},
   "outputs": [],
   "source": [
    "# Question a. Que doit renvoyer la commande liste_medailles[0] ? \n"
   ]
  },
  {
   "cell_type": "code",
   "execution_count": null,
   "metadata": {},
   "outputs": [],
   "source": [
    "# Question b. Que doit renvoyer la commande liste_medailles[0][3] ?  \n"
   ]
  },
  {
   "cell_type": "code",
   "execution_count": null,
   "metadata": {},
   "outputs": [],
   "source": [
    "# Question c. Quelle commande entrer pour obtenir comme retour : 'LAVILLENIE' ?\n"
   ]
  },
  {
   "cell_type": "markdown",
   "metadata": {},
   "source": [
    "## 1.2 Les limites de ce type de structures de données.\n",
    "Pour rechercher la discipline de liste_medailles[1] quelle information supplémentaire doit-on connaître ?"
   ]
  },
  {
   "cell_type": "markdown",
   "metadata": {},
   "source": [
    "## 2. Import du cvs dans python sous forme de liste de dictionnaires\n",
    "Pour palier au problème soulevé précédement, il est possible d'importer les données sous la forme d'une liste de dictionnaires.  \n",
    "Chaque dictionnaire aura une liste de **clés** qui correspondent aux entêtes de notre csv (les données de la première ligne).  \n",
    "Les **valeurs** correspondront aux données obtenues sur chaque ligne.  \n",
    "*Exemple* : liste[0]['Epreuve'] est égal à '3000m steeple homme'  \n",
    "La première ligne du fichier csv servant à générer nos **clés** est à ignorer lors du parcours des enregistrements."
   ]
  },
  {
   "cell_type": "markdown",
   "metadata": {},
   "source": [
    "## 2.1 Complétez la fonction ci-dessous.\n",
    "La fonction ci-dessous est incomplète, complétez celle-ci."
   ]
  },
  {
   "cell_type": "code",
   "execution_count": 3,
   "metadata": {},
   "outputs": [],
   "source": [
    "def charger_csv_dict(nom_fic):\n",
    "    \"\"\"Fonction qui permet d'importer les données du fichier csv sous forme de liste de dictionnaires \"\"\"\n",
    "    liste = []  # resultat de la fonction\n",
    "    # ouverture du fichier CSV\n",
    "    with open(nom_fic,  # nom du fichier\n",
    "              \"r\",  # ouverture en lecture\n",
    "              newline=\"\",  # évite les problèmes de codage du retour à la ligne\n",
    "              encoding=\"utf-8-sig\"  # permet de forcer la lecture en utf -8 (sig pour \"UTF-8 codec with BOM signature\")\n",
    "              ) as csvfile:  # cvsfile est le fichier que l'on vient d'ouvrir\n",
    "        # création du lecteur csv indiquant le caractère séparateur\n",
    "        csv_reader = csv.reader(csvfile, delimiter=\";\")\n",
    "        # permet de sauter la ligne d'entête si pas besoin\n",
    "        csv_reader.__next__()\n",
    "        for enreg in csv_reader:  # boucle de parcours des enregistrements\n",
    "            # enreg est une liste de str contenant chaque champ de l ' enregistrement\n",
    "            # ajout du score dans la liste\n",
    "            liste.append(\n",
    "            {\n",
    "                'Fédération' : enreg[0],\n",
    "                'Discipline' : enreg[1],\n",
    "                'Epreuve' : enreg[2],\n",
    "                'NOM' : enreg[3],\n",
    "                'Prénom' : enreg[4],\n",
    "                # COMPLETER LE CODE A PARTIR DE CETTE LIGNE\n",
    "            }\n",
    "            )\n",
    "    return liste"
   ]
  },
  {
   "cell_type": "code",
   "execution_count": 4,
   "metadata": {},
   "outputs": [],
   "source": [
    "liste_medailles_dict = charger_csv_dict(\"JO_Liste_Medaille_2012-2014.csv\")"
   ]
  },
  {
   "cell_type": "markdown",
   "metadata": {},
   "source": [
    "## 2.2 Testez votre fonction.  \n",
    "**Après avoir compléter la fonction vu en 2.1** , complétez les 3 cellules suivantes pour tester votre fonction"
   ]
  },
  {
   "cell_type": "code",
   "execution_count": null,
   "metadata": {},
   "outputs": [],
   "source": [
    "#a. liste_medailles_dict[0]['Epreuve'] doit retourner '3000m steeple homme'  \n"
   ]
  },
  {
   "cell_type": "code",
   "execution_count": null,
   "metadata": {},
   "outputs": [],
   "source": [
    "#b. liste_medailles_dict[7]['MEDAILLE(S)'] doit retourner 'Argent'\n"
   ]
  },
  {
   "cell_type": "code",
   "execution_count": 5,
   "metadata": {},
   "outputs": [],
   "source": [
    "#c. Que doit retrouner liste_medailles_dict[39]['Olympique/paralympique'] ? \n",
    "# Trouvez-le sans tricher, puis vérifiez avec une ligne de code !\n"
   ]
  },
  {
   "cell_type": "markdown",
   "metadata": {},
   "source": [
    "# 3. Passons aux choses sérieuses !\n",
    "Faisons le point ! Nous savons importer un fichier csv sous forme :\n",
    "- de liste de listes\n",
    "- de liste de dictionnaires (tableau de p-uplets)  \n",
    "\n",
    "Nous savons aussi afficher une donnée dans ces listes.  \n",
    "Allons plus loin, il est possible d'exploiter ses données via des traitements que nous effectuerons avec python.  \n",
    "Plus tard (l'année prochaine) nous verrons que des languages peuvent servir à exploiter des bases de données relationnelles. (SQL par exemple ...)  \n",
    "Pour les curieux : [lien vers l'article wikipedia sur les bases de données relationnelles](https://fr.wikipedia.org/wiki/Base_de_donn%C3%A9es_relationnelle)"
   ]
  },
  {
   "cell_type": "markdown",
   "metadata": {},
   "source": [
    "## 3.1 Recherche de doublons.\n",
    "Un première tâche est de vérifier que nos données ne contiennent pas de doublons.  \n",
    "Normalement, en utilisant des données depuis data.gouv.fr on peut espérer que nos données soient \"propres\".  \n",
    "Mais mieux vaut être prudent, on ne sait jamais !\n",
    "\n",
    "**Créez, dans la cellule ci-dessous, une fonction qui prend comme entrée une liste et qui renvoie la liste des doublons. Cette liste sera vide si il n'y a aucun doublons.**"
   ]
  },
  {
   "cell_type": "code",
   "execution_count": null,
   "metadata": {},
   "outputs": [],
   "source": [
    "def liste_doublons(liste):\n",
    "    \"\"\"\n",
    "    fonction qui prend comme entrée une liste\n",
    "    et qui renvoie la liste des doublons.\n",
    "    Cette liste sera vide si il n'y a aucun doublons.\n",
    "    \"\"\"\n",
    "    doublons = []\n",
    "    # A vous de compléter. Bonne chance !\n",
    "    return doublons\n",
    "    "
   ]
  },
  {
   "cell_type": "code",
   "execution_count": null,
   "metadata": {},
   "outputs": [],
   "source": [
    "# L'exemple ci-dessous doit revoyer ['alice', 'alice', 'david']\n",
    "liste_doublons(['alice','alice','bob','charles','david','emy','david','fr','alice'])"
   ]
  },
  {
   "cell_type": "code",
   "execution_count": null,
   "metadata": {},
   "outputs": [],
   "source": [
    "# Charger le fichier csv qui s'appelle JO_Liste_Medaille_test_doublons.csv\n",
    "# Affichez les éventuels doublons de cette liste\n"
   ]
  },
  {
   "cell_type": "code",
   "execution_count": null,
   "metadata": {},
   "outputs": [],
   "source": [
    "# Vérifier que la liste des médailles ne contient pas de doublons.\n"
   ]
  },
  {
   "cell_type": "markdown",
   "metadata": {},
   "source": [
    "## 3.2 Recherches.\n",
    "Les exercices suivant aurons pour but d'effectuer des recherches dans la table liste_medailles_dict\n"
   ]
  },
  {
   "cell_type": "code",
   "execution_count": null,
   "metadata": {},
   "outputs": [],
   "source": [
    "# Complétez la fonction suivante :\n",
    "def nombre_medailles_fede(federation,liste):\n",
    "    \"\"\"\n",
    "    Fonction qui en paramètre prend l'intitulé d'une fédération (voir csv)\n",
    "    et la liste des médailles sous forme de liste de dictionnaires\n",
    "    et qui retourne le nombre de médaille pour cette fédération\n",
    "    \"\"\"\n",
    "    pass"
   ]
  },
  {
   "cell_type": "code",
   "execution_count": 6,
   "metadata": {},
   "outputs": [],
   "source": [
    "# a. Vérifiez que le nombre de médaille en 'Athlétisme' est de 2.\n"
   ]
  },
  {
   "cell_type": "code",
   "execution_count": null,
   "metadata": {},
   "outputs": [],
   "source": [
    "# b. Trouvez le nombre de médaille en 'Handisport'\n"
   ]
  },
  {
   "cell_type": "code",
   "execution_count": null,
   "metadata": {},
   "outputs": [],
   "source": [
    "# Complétez la fonction suivante :\n",
    "def nombre_medailles(champ,valeur,liste):\n",
    "    \"\"\"\n",
    "    Fonction qui en paramètre prend l'intitulé le champs cible (par exemple 'NOM'),\n",
    "    sa valeur cible (par exemple 'FOURCADE')\n",
    "    et la liste des médailles sous forme de liste de dictionnaires\n",
    "    et qui retourne le nombre de médaille correspondant\n",
    "    \"\"\"\n",
    "    pass"
   ]
  },
  {
   "cell_type": "code",
   "execution_count": null,
   "metadata": {},
   "outputs": [],
   "source": [
    "# a. Vérfier que Martin FOURCADE a obtenu 3 médailles au J.O en 2014.\n"
   ]
  },
  {
   "cell_type": "code",
   "execution_count": null,
   "metadata": {},
   "outputs": [],
   "source": [
    "# b. Déterminer le nombre de médailles d'or de la france lors de ces 2 J.O\n"
   ]
  },
  {
   "cell_type": "code",
   "execution_count": null,
   "metadata": {},
   "outputs": [],
   "source": []
  }
 ],
 "metadata": {
  "kernelspec": {
   "display_name": "Python 3",
   "language": "python",
   "name": "python3"
  },
  "language_info": {
   "codemirror_mode": {
    "name": "ipython",
    "version": 3
   },
   "file_extension": ".py",
   "mimetype": "text/x-python",
   "name": "python",
   "nbconvert_exporter": "python",
   "pygments_lexer": "ipython3",
   "version": "3.6.7"
  }
 },
 "nbformat": 4,
 "nbformat_minor": 2
}
